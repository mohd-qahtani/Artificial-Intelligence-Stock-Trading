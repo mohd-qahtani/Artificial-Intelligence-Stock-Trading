{
 "cells": [
  {
   "cell_type": "code",
   "execution_count": null,
   "metadata": {},
   "outputs": [],
   "source": [
    "positive_words =['تحديث','موافقة', 'زيادة', 'الموافقة' , 'إدراج', 'تصريح', 'صيانة']\n",
    "negative_words =['منازعات' , 'بإدانة' , 'مخالف' ,'فرض','غرامة', 'تعليق' , 'انضمام', 'لمخالفتها' ]\n",
    "company= ['الشركة الوطنية للتنمية الزراعية', ' شركة باعظيم'\n",
    "          , ' الشركة الوطنية للتسويق الزراعي (ثمار', 'شركة الأحساء للتنمية', 'شركة اللجين', 'أرامكو السعودية' , 'شركة التعدين العربية السعودية'\n",
    "          , 'شركة السعودية لصناعة الورق' , 'شركة عبد الله سعد محمد أبو معطي للمكتبات', ' شركة ثوب الأصيل' , 'شركة سيكو السعودية المالية '\n",
    "          , ' شركة الكثيري القابضة', ' شركة الكابلات السعودية' , 'الشركة الوطنية للبناء والتسويق'\n",
    "          , ' شركة عناية السعودية للتأمين التعاوني','الشركة الوطنية للبناء والتسويق', 'شركة ولاء للتأمين التعاوني', 'شركة أكسا للتأمين التعاوني' \n",
    "          , 'شركة آفاق المالية', ' شركة بذور التكافل للتمويل', 'شركة إمكان العربية المحدودة'\n",
    "          , 'شركة طلال أبو غزالة وشركاه محاسبون قانونيون', 'لشركة الكيميائية السعودية القابضة'\n",
    "          , ' شركة مجموعة الدكتور سليمان الحبيب للخدمات الطبية', ' الشركة الوطنية للتسويق الزراعي'\n",
    "          , 'الشركة المتقدمة للبتروكيماويات', 'ـشركة الأعمال التطويرية الغذائية', 'شركة أميانتيت العربية السعودية'\n",
    "          , 'شركة ريدان الغذائية',\n",
    "         \n",
    "         \n",
    "         \n",
    "         \n",
    "         \n",
    "         \n",
    "         \n",
    "         \n",
    "         ]"
   ]
  },
  {
   "cell_type": "code",
   "execution_count": null,
   "metadata": {},
   "outputs": [],
   "source": []
  },
  {
   "cell_type": "code",
   "execution_count": null,
   "metadata": {},
   "outputs": [],
   "source": []
  },
  {
   "cell_type": "code",
   "execution_count": null,
   "metadata": {},
   "outputs": [],
   "source": []
  },
  {
   "cell_type": "code",
   "execution_count": null,
   "metadata": {},
   "outputs": [],
   "source": []
  },
  {
   "cell_type": "code",
   "execution_count": null,
   "metadata": {},
   "outputs": [],
   "source": []
  }
 ],
 "metadata": {
  "kernelspec": {
   "display_name": "Python 3",
   "language": "python",
   "name": "python3"
  },
  "language_info": {
   "codemirror_mode": {
    "name": "ipython",
    "version": 3
   },
   "file_extension": ".py",
   "mimetype": "text/x-python",
   "name": "python",
   "nbconvert_exporter": "python",
   "pygments_lexer": "ipython3",
   "version": "3.7.3"
  }
 },
 "nbformat": 4,
 "nbformat_minor": 2
}
